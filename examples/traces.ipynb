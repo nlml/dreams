{
 "cells": [
  {
   "cell_type": "code",
   "execution_count": 3,
   "metadata": {},
   "outputs": [],
   "source": [
    "def get_xy_mesh(size, r=3.0**0.5):\n",
    "    r = r[0]\n",
    "    ratio = size[0] / size[1]\n",
    "    rng0 = torch.linspace(-r * ratio, r * ratio, size[0])\n",
    "    rng1 = torch.linspace(-r, r, size[1])\n",
    "    xy = torch.stack([*torch.meshgrid(rng0, rng1)], -1).float()  # noqa\n",
    "    xy = torch.unsqueeze(xy, 0).permute(0, 3, 1, 2)\n",
    "    return xy"
   ]
  },
  {
   "cell_type": "code",
   "execution_count": 9,
   "metadata": {},
   "outputs": [
    {
     "name": "stderr",
     "output_type": "stream",
     "text": [
      "/home/liam/.local/lib/python3.6/site-packages/ipykernel_launcher.py:4: TracerWarning: Converting a tensor to a Python integer might cause the trace to be incorrect. We can't record the data flow of Python values, so this value will be treated as a constant in the future. This means that the trace might not generalize to other inputs!\n",
      "  after removing the cwd from sys.path.\n",
      "/home/liam/.local/lib/python3.6/site-packages/ipykernel_launcher.py:5: TracerWarning: Converting a tensor to a Python integer might cause the trace to be incorrect. We can't record the data flow of Python values, so this value will be treated as a constant in the future. This means that the trace might not generalize to other inputs!\n",
      "  \"\"\"\n"
     ]
    }
   ],
   "source": [
    "import torch\n",
    "\n",
    "size_tensor = torch.LongTensor([10, 10])\n",
    "r = torch.FloatTensor([1.0])\n",
    "\n",
    "class FakeModule(torch.nn.Module):\n",
    "    def __init__(self):\n",
    "        super(FakeModule, self).__init__()\n",
    "        self.f = torch.jit.trace(get_xy_mesh, (size_tensor, r))\n",
    "    def forward(self, size_tensor, r):\n",
    "        return self.f(size_tensor, r)\n",
    "    \n",
    "torch.jit.save(\n",
    "    torch.jit.trace(FakeModule(), (size_tensor, r)),\n",
    "    f='/home/liam/get_xy_mesh_trace.pth'\n",
    ")\n",
    "\n",
    "m = torch.jit.load('/home/liam/get_xy_mesh_trace.pth')"
   ]
  },
  {
   "cell_type": "code",
   "execution_count": 7,
   "metadata": {},
   "outputs": [
    {
     "data": {
      "text/plain": [
       "torch.Size([1, 2, 10, 10])"
      ]
     },
     "execution_count": 7,
     "metadata": {},
     "output_type": "execute_result"
    }
   ],
   "source": [
    "m(size_tensor, r).shape"
   ]
  },
  {
   "cell_type": "code",
   "execution_count": 10,
   "metadata": {},
   "outputs": [],
   "source": [
    "xy = m(size_tensor, r)"
   ]
  },
  {
   "cell_type": "code",
   "execution_count": 77,
   "metadata": {},
   "outputs": [],
   "source": [
    "from dreamz.cppn import *\n",
    "\n",
    "class CPPNNet(nn.Module):\n",
    "    def __init__(\n",
    "            self,\n",
    "            n_channels_list,\n",
    "            kernel_size=1,\n",
    "            act_fn=composite_activation,\n",
    "            use_bn=False,\n",
    "            input_channels=2,\n",
    "            output_channels=4):\n",
    "\n",
    "        super(CPPNNet, self).__init__()\n",
    "        self.use_bn = use_bn\n",
    "        self.layers = []\n",
    "        self.input_channels = input_channels\n",
    "        self.output_channels = output_channels\n",
    "        n_channels_list = [input_channels] + n_channels_list + [output_channels]\n",
    "        chans0 = n_channels_list[0]\n",
    "        for i, chans1 in enumerate(n_channels_list[1:]):\n",
    "            this = nn.Sequential()\n",
    "            if self.use_bn:\n",
    "                this.add_module('bn{}'.format(i), nn.BatchNorm2d(chans0))\n",
    "            this.add_module('conv{}'.format(i), nn.Conv2d(chans0, chans1, kernel_size))\n",
    "            # Initialise the weight to preserve mean/std\n",
    "            nn.init.normal_(\n",
    "                this[-1].weight,\n",
    "                std=np.sqrt(1 / (chans0 * (kernel_size ** 2)))\n",
    "            )\n",
    "            if i < len(n_channels_list) - 2:\n",
    "                this.add_module('act{}'.format(i), Lambda(act_fn))\n",
    "                chans0 = chans1 * 2\n",
    "            self.layers.append(this)\n",
    "        self.layers = nn.Sequential(*self.layers)\n",
    "        self.final_act = nn.Sigmoid()\n",
    "\n",
    "    def do_debug_prints(self):\n",
    "        print('weight', self.layers[-2][0].weight.mean().item())\n",
    "        print('grad', torch.abs(self.layers[-2][0].weight.grad).mean())\n",
    "\n",
    "    def forward(self, x, debug=False):\n",
    "        if debug:\n",
    "            for fc in self.layers:\n",
    "                x = fc(x)\n",
    "                print(x.view(-1).mean(), x.view(-1).std())\n",
    "        else:\n",
    "            x = self.layers(x)\n",
    "        x = self.final_act(x)\n",
    "        return x.permute(0, 3, 2, 1)\n",
    "\n",
    "cppn = CPPNNet([13] * 5)\n",
    "cppn(xy).shape\n",
    "cppn_trace = torch.jit.trace(cppn, xy)\n",
    "torch.jit.save(cppn_trace, '/home/liam/cppn_trace.pth')"
   ]
  },
  {
   "cell_type": "code",
   "execution_count": null,
   "metadata": {},
   "outputs": [],
   "source": []
  }
 ],
 "metadata": {
  "kernelspec": {
   "display_name": "Python 3",
   "language": "python",
   "name": "python3"
  }
 },
 "nbformat": 4,
 "nbformat_minor": 2
}
